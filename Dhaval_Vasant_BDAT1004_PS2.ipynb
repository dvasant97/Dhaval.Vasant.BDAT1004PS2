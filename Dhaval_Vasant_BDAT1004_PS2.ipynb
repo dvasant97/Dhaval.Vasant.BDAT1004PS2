{
  "nbformat": 4,
  "nbformat_minor": 0,
  "metadata": {
    "colab": {
      "provenance": []
    },
    "kernelspec": {
      "name": "python3",
      "display_name": "Python 3"
    },
    "language_info": {
      "name": "python"
    }
  },
  "cells": [
    {
      "cell_type": "markdown",
      "source": [
        "#**Problem Set 2**"
      ],
      "metadata": {
        "id": "CchM1h9_2qQd"
      }
    },
    {
      "cell_type": "markdown",
      "source": [
        "**Question 1**\n",
        "\n",
        "Consider the following Python module:\n",
        "a = 0\n",
        "def b():\n",
        " global a\n",
        " a = c(a)\n",
        "def c(a):\n",
        " return a + 2\n",
        "\n",
        "\n",
        "---\n",
        "\n",
        "\n"
      ],
      "metadata": {
        "id": "nUzR0NHX3GBC"
      }
    },
    {
      "cell_type": "code",
      "execution_count": 10,
      "metadata": {
        "id": "AB1cJcmY2EuA"
      },
      "outputs": [],
      "source": [
        "a = 0\n",
        "def b():\n",
        " global a\n",
        " a = c(a)\n",
        "def c(a):\n",
        " return a + 2"
      ]
    },
    {
      "cell_type": "code",
      "source": [
        "# a is initialised to 0\n",
        "# variable a can be accessed by the function c as it is defined with global keyword.\n",
        "\n",
        "# When the function b is called 1st time, it calls function c(a) which executes a=0+2 so the value of a is 2.\n",
        "b()\n",
        "\n",
        "# When the function b is called 2nd time, value of a is 2 from the 1st execution, Hence, a=2+2 so the new value of a is 4.\n",
        "b()\n",
        "\n",
        "# When the function b is called 3nd time, value of a is 4 from the 1st execution, Hence, a=4+2 so the new value of a is 6.\n",
        "b()\n",
        "\n",
        "# The final value of variable a is 6, as a result 6 is printed.\n",
        "a"
      ],
      "metadata": {
        "colab": {
          "base_uri": "https://localhost:8080/"
        },
        "id": "6HJvdUjF6tNU",
        "outputId": "9c74e531-010f-4ae3-ddd7-ebc1fdaa9ace"
      },
      "execution_count": 11,
      "outputs": [
        {
          "output_type": "execute_result",
          "data": {
            "text/plain": [
              "6"
            ]
          },
          "metadata": {},
          "execution_count": 11
        }
      ]
    },
    {
      "cell_type": "markdown",
      "source": [
        "**Question 2**\n",
        "\n",
        "Function fileLength(), given to you, takes the name of a file as input and returns the length of the file:\n",
        "\n",
        "If the file cannot be found by the interpreter or if it cannot be read\n",
        "as a text file, an exception will be raised. Modify function fileLength() so that a friendly message is printed instead:\n",
        "\n",
        ">fileLength('midterm.py')\n",
        ">>358\n",
        "\n",
        ">fileLength('idterm.py')\n",
        ">>File idterm.py not found.\n",
        "\n",
        "\n",
        "\n",
        "---\n",
        "\n"
      ],
      "metadata": {
        "id": "DSpdOxCc8AfK"
      }
    },
    {
      "cell_type": "code",
      "source": [
        "def file_length(file_name):\n",
        "  try:\n",
        "    file = open(file_name)\n",
        "    contents = file.read()\n",
        "    file.close()\n",
        "    print(len(contents))\n",
        "  except:\n",
        "    print(\"File \"+ file_name + \" not found\")\n",
        "\n",
        "# Added Try Except block to catch the exception and print the output.\n",
        "\n",
        "file_length('midterm.py')"
      ],
      "metadata": {
        "colab": {
          "base_uri": "https://localhost:8080/"
        },
        "id": "NjwNC9Xo8gCX",
        "outputId": "a3424a35-e6a7-4afa-880f-390b274e9816"
      },
      "execution_count": 17,
      "outputs": [
        {
          "output_type": "stream",
          "name": "stdout",
          "text": [
            "File midterm.py not found\n"
          ]
        }
      ]
    },
    {
      "cell_type": "markdown",
      "source": [
        "**Question 3**\n",
        "\n",
        "Write a class named Marsupial that can be used as shown below:\n",
        "m = Marsupial()\n",
        "\n",
        "m.put_in_pouch('doll')\n",
        "\n",
        "m.put_in_pouch('firetruck')\n",
        "\n",
        "m.put_in_pouch('kitten')\n",
        "\n",
        "m.pouch_contents()\n",
        "\n",
        "['doll', 'firetruck', 'kitten']\n",
        "\n",
        "Now write a class named Kangaroo as a subclass of Marsupial that inherits all the\n",
        "attributes of Marsupial and also:\n",
        "a. extends the Marsupial __init__ constructor to take, as input, the\n",
        "coordinates x and y of the Kangaroo object,\n",
        "b. supports method jump that takes number values dx and dy as input and\n",
        "moves the kangaroo by dx units along the x-axis and by dy units along the y-axis, and\n",
        "c. overloads the __str__ operator so it behaves as shown below\n",
        "\n",
        "\n",
        "---\n",
        "\n"
      ],
      "metadata": {
        "id": "YVHRCFEXAkqU"
      }
    },
    {
      "cell_type": "code",
      "source": [
        "class Marsupial:\n",
        "    def __init__(self):\n",
        "        self.pouch = []\n",
        "\n",
        "    def put_in_pouch(self, item):\n",
        "        self.pouch.append(item)\n",
        "\n",
        "    def pouch_contents(self):\n",
        "        return self.pouch\n",
        "\n",
        "\n",
        "class Kangaroo(Marsupial):\n",
        "    def __init__(self, x, y):\n",
        "        super().__init__()\n",
        "        self.x = x\n",
        "        self.y = y\n",
        "\n",
        "    def jump(self, dx, dy):\n",
        "        self.x += dx\n",
        "        self.y += dy\n",
        "\n",
        "    def __str__(self):\n",
        "        return f\"I am a Kangaroo located at coordinates ({self.x},{self.y})\"\n",
        "\n",
        "\n",
        "# Testing the classes\n",
        "m = Marsupial()\n",
        "m.put_in_pouch('doll')\n",
        "m.put_in_pouch('firetruck')\n",
        "m.put_in_pouch('kitten')\n",
        "print(m.pouch_contents())  # Output: ['doll', 'firetruck', 'kitten']\n",
        "\n",
        "k = Kangaroo(0, 0)\n",
        "print(k)  # Output: I am a Kangaroo located at coordinates (0,0)\n",
        "k.put_in_pouch('doll')\n",
        "k.put_in_pouch('firetruck')\n",
        "k.put_in_pouch('kitten')\n",
        "print(k.pouch_contents())  # Output: ['doll', 'firetruck', 'kitten']\n",
        "k.jump(1, 0)\n",
        "k.jump(1, 0)\n",
        "k.jump(1, 0)\n",
        "print(k)  # Output: I am a Kangaroo located at coordinates (3,0)"
      ],
      "metadata": {
        "colab": {
          "base_uri": "https://localhost:8080/"
        },
        "id": "07CaTqCEA9dL",
        "outputId": "d9b31968-df68-4328-eb9c-2e8f8f4b65b1"
      },
      "execution_count": 21,
      "outputs": [
        {
          "output_type": "stream",
          "name": "stdout",
          "text": [
            "['doll', 'firetruck', 'kitten']\n",
            "I am a Kangaroo located at coordinates (0,0)\n",
            "['doll', 'firetruck', 'kitten']\n",
            "I am a Kangaroo located at coordinates (3,0)\n"
          ]
        }
      ]
    },
    {
      "cell_type": "markdown",
      "source": [
        "**Question 4**\n",
        "\n",
        "Write function collatz() that takes a positive integer x as input and prints the\n",
        "Collatz sequence starting at x. A Collatz sequence is obtained by repeatedly applying\n",
        "this rule to the previous number x in the sequence:\n",
        "x = {\n",
        "𝑥/2 𝑖𝑓 𝑥 𝑖𝑠 𝑒𝑣𝑒𝑛\n",
        "3𝑥 + 1 𝑖𝑓 𝑥 𝑖𝑠 𝑜𝑑𝑑\n",
        "Your function should stop when the sequence gets to number 1. Your\n",
        "implementation must be recursive, without any loops.\n",
        "\n",
        "---\n",
        "\n",
        "\n"
      ],
      "metadata": {
        "id": "2tNGj41dGqNS"
      }
    },
    {
      "cell_type": "code",
      "source": [
        "def collatz(x):\n",
        "  if x<0:\n",
        "    print(\"Please enter the positive number\")\n",
        "  else:\n",
        "    print(x)\n",
        "    if x == 1:\n",
        "        return\n",
        "    elif x % 2 == 0:\n",
        "        collatz(x // 2) ## Used \"//\"\" instead of \"/\"\" as \"//\" is used for floor division and \"/\" gives the value in decimals.\n",
        "    else:\n",
        "        collatz(3 * x + 1)\n",
        "\n",
        "\n",
        "collatz(-5)\n",
        "collatz(1)\n",
        "collatz(10)"
      ],
      "metadata": {
        "colab": {
          "base_uri": "https://localhost:8080/"
        },
        "id": "3fNGEHxeAY6z",
        "outputId": "f9ad8a2d-1568-439e-f41e-3f29dc03553b"
      },
      "execution_count": 34,
      "outputs": [
        {
          "output_type": "stream",
          "name": "stdout",
          "text": [
            "Please enter the positive number\n",
            "1\n",
            "10\n",
            "5\n",
            "16\n",
            "8\n",
            "4\n",
            "2\n",
            "1\n"
          ]
        }
      ]
    },
    {
      "cell_type": "markdown",
      "source": [
        "**Question 5**\n",
        "\n",
        "Write a recursive method binary() that takes a non-negative\n",
        "integer n and prints the binary representation of integer n.\n",
        "\n",
        "\n",
        "\n",
        "---\n",
        "\n"
      ],
      "metadata": {
        "id": "BmNiS8C7G9e-"
      }
    },
    {
      "cell_type": "code",
      "source": [
        "def binary(x):\n",
        "  if x<0:\n",
        "    print(\"Please enter the positive number\")\n",
        "  else:\n",
        "    if x>1:\n",
        "      binary(x // 2)\n",
        "    print(x % 2, end=\"\")"
      ],
      "metadata": {
        "id": "F_v58UduG8nT"
      },
      "execution_count": 64,
      "outputs": []
    },
    {
      "cell_type": "code",
      "source": [
        "binary(-4)\n",
        "binary(1)"
      ],
      "metadata": {
        "colab": {
          "base_uri": "https://localhost:8080/"
        },
        "id": "4WL0xe81LXcf",
        "outputId": "7e5337ca-7665-4ae6-87a4-1799f62bdca9"
      },
      "execution_count": 65,
      "outputs": [
        {
          "output_type": "stream",
          "name": "stdout",
          "text": [
            "Please enter the positive number\n",
            "1"
          ]
        }
      ]
    },
    {
      "cell_type": "code",
      "source": [
        "binary(9)"
      ],
      "metadata": {
        "colab": {
          "base_uri": "https://localhost:8080/"
        },
        "id": "S7Phu081Lbdt",
        "outputId": "557d6119-de04-4836-e3ea-aa815c9df196"
      },
      "execution_count": 66,
      "outputs": [
        {
          "output_type": "stream",
          "name": "stdout",
          "text": [
            "1001"
          ]
        }
      ]
    },
    {
      "cell_type": "markdown",
      "source": [
        "**Question 6**\n",
        "\n",
        "Implement a class named HeadingParser that can be used to parse an HTML\n",
        "document, and retrieve and print all the headings in the document. You should\n",
        "implement your class as a subclass of HTMLParser, defined in Standard Library\n",
        "module html.parser. When fed a string containing HTML code, your class should\n",
        "print the headings, one per line and in the order in which they appear in the\n",
        "document. Each heading should be indented as follows: an h1 heading should have indentation 0, and h2 heading should have indentation 1, etc. Test your\n",
        "implementation using w3c.html.\n",
        "\n",
        "---\n",
        "\n"
      ],
      "metadata": {
        "id": "GUR9PvBsDSoY"
      }
    },
    {
      "cell_type": "code",
      "source": [
        "from html.parser import HTMLParser\n",
        "\n",
        "class HeadingParser(HTMLParser):\n",
        "    def __init__(self):\n",
        "        super().__init__()\n",
        "        self.headings = []\n",
        "        self.current_heading = ''\n",
        "        self.indentation = 0\n",
        "\n",
        "    def handle_starttag(self, tag, attrs):\n",
        "        if tag.startswith('h'):\n",
        "            try:\n",
        "                self.indentation = int(tag[1:]) - 1\n",
        "            except ValueError:\n",
        "                # Ignore if the tag does not have a numeric value\n",
        "                pass\n",
        "\n",
        "    def handle_data(self, data):\n",
        "      if self.indentation >= 0:\n",
        "        self.current_heading = ' ' * self.indentation + data.strip()\n",
        "        self.headings.append(self.current_heading)\n",
        "\n",
        "    def print_headings(self):\n",
        "      for heading in self.headings:\n",
        "          print(heading)\n",
        "\n",
        "# Example usage\n",
        "with open('w3c.html') as infile:\n",
        "    content = infile.read()\n",
        "\n",
        "hp = HeadingParser()\n",
        "hp.feed(content)\n",
        "hp.print_headings()"
      ],
      "metadata": {
        "colab": {
          "base_uri": "https://localhost:8080/"
        },
        "id": "9r7OiHESDlT2",
        "outputId": "5d17d02b-242d-47f5-fc8b-aded10bc723e"
      },
      "execution_count": 12,
      "outputs": [
        {
          "output_type": "stream",
          "name": "stdout",
          "text": [
            "\n",
            "\n",
            "\n",
            "\n",
            "\n",
            "Change_me\n",
            "\n",
            "\n",
            "\n",
            "\n",
            "\n",
            "\n",
            "W3C Mission\n",
            "\n",
            " Principles\n",
            " \n",
            " \n"
          ]
        }
      ]
    },
    {
      "cell_type": "markdown",
      "source": [
        "**Question 7**\n",
        "\n",
        "Implement recursive function webdir() that takes as input: a URL (as a string) and\n",
        "non-negative integers depth and indent. Your function should visit every web\n",
        "page reachable from the starting URL web page in depth clicks or less, and print\n",
        "each web page's URL. As shown below, indentation, specified by indent, should\n",
        "be used to indicate the depth of a URL.\n",
        "\n",
        "---\n",
        "\n"
      ],
      "metadata": {
        "id": "JfLhfLEaLhjR"
      }
    },
    {
      "cell_type": "code",
      "source": [
        "import requests\n",
        "from bs4 import BeautifulSoup\n",
        "\n",
        "def webdir(url, depth, indent=0):\n",
        "    if depth <0: #If depth is 0, terminate the recursion as there is no depth.\n",
        "        return\n",
        "\n",
        "    response = requests.get(url)\n",
        "    soup = BeautifulSoup(response.text, 'html.parser')\n",
        "\n",
        "    print(' ' * indent + url)\n",
        "    if depth == 0:\n",
        "        return\n",
        "    links = soup.find_all('a')\n",
        "    for link in links:\n",
        "        href = link.get('href')\n",
        "        if href and not href.startswith('http'):\n",
        "            href = url + href.strip('/')\n",
        "        webdir(href, depth - 1, indent + 1)\n",
        "\n",
        "webdir('http://reed.cs.depaul.edu/lperkovic/csc242/lecture1/', 2, 0)"
      ],
      "metadata": {
        "colab": {
          "base_uri": "https://localhost:8080/"
        },
        "id": "ZT-7NyOEU6iK",
        "outputId": "af1698cd-42ad-4f17-a224-976e2444190b"
      },
      "execution_count": 126,
      "outputs": [
        {
          "output_type": "stream",
          "name": "stdout",
          "text": [
            "http://reed.cs.depaul.edu/lperkovic/csc242/lecture1/\n",
            " http://reed.cs.depaul.edu/lperkovic/csc242/lecture1/Ch7.pptx\n",
            " http://reed.cs.depaul.edu/lperkovic/csc242/lecture1/caseStudy6/blackjack.py\n",
            " http://reed.cs.depaul.edu/lperkovic/csc242/lecture1/emoticon.py\n",
            " http://reed.cs.depaul.edu/lperkovic/csc242/lecture1/chapter7.zip\n"
          ]
        }
      ]
    },
    {
      "cell_type": "markdown",
      "source": [
        "**Question 8**\n",
        "Write SQL queries on the below database table that return:\n",
        "1. All the temperature data.\n",
        "2. All the cities, but without repetition.\n",
        "3. All the records for India.\n",
        "4. All the Fall records\n",
        "5. The city, country, and season for which the average rainfall is between 200\n",
        "and 400 millimeters.\n",
        "6. The city and country for which the average Fall temperature is above 20\n",
        "degrees, in increasing temperature order.\n",
        "7. The total annual rainfall for Cairo.\n",
        "8. The total rainfall for each season.\n",
        "\n",
        "---\n",
        "\n"
      ],
      "metadata": {
        "id": "1MoeK7DBlSox"
      }
    },
    {
      "cell_type": "code",
      "source": [
        "import sqlite3\n",
        "\n",
        "# Connect to the database\n",
        "conn = sqlite3.connect('temperature_db.db')\n",
        "cursor = conn.cursor()\n",
        "\n",
        "# Create the temperature_data table\n",
        "cursor.execute('''CREATE TABLE temperature_data (\n",
        "                    City TEXT,\n",
        "                    Country TEXT,\n",
        "                    Season TEXT,\n",
        "                    Temperature FLOAT,\n",
        "                    Rainfall FLOAT\n",
        "                )''')\n",
        "\n",
        "# Commit the changes and close the connection\n",
        "conn.commit()\n",
        "conn.close()"
      ],
      "metadata": {
        "id": "tTwVT2Pclw7y"
      },
      "execution_count": 24,
      "outputs": []
    },
    {
      "cell_type": "code",
      "source": [
        "import sqlite3\n",
        "\n",
        "# Connect to the database\n",
        "conn = sqlite3.connect('temperature_db.db')\n",
        "cursor = conn.cursor()\n",
        "\n",
        "# Insert data into the temperature_data table\n",
        "temperature_data = [\n",
        "   (\"Mumbai\",\"India\",\"Winter\",24.8,5.9),\n",
        "   (\"Mumbai\",\"India\",\"Spring\",28.4,16.2),\n",
        "   (\"Mumbai\",\"India\",\"Summer\",27.9,1549.4),\n",
        "   (\"Mumbai\",\"India\",\"Fall\",27.6,346),\n",
        "   (\"London\",\"United Kingdom\",\"Winter\",4.2,207.7),\n",
        "   (\"London\",\"United Kingdom\",\"Spring\",8.3,169.6),\n",
        "   (\"London\",\"United Kingdom\",\"Summer\",15.7,157),\n",
        "   (\"London\",\"United Kingdom\",\"Fall\",10.4,218.5),\n",
        "   (\"Cairo\",\"Egypt\",\"Winter\",13.6,16.5),\n",
        "   (\"Cairo\",\"Egypt\",\"Spring\",20.7,6.5),\n",
        "   (\"Cairo\",\"Egypt\",\"Summer\",27.7,0.1),\n",
        "   (\"Cairo\",\"Egypt\",\"Fall\",22.2,4.5)\n",
        "]\n",
        "\n",
        "cursor.executemany('INSERT INTO temperature_data VALUES (?, ?,?,?,?)', temperature_data)\n",
        "\n",
        "# Commit the changes and close the connection\n",
        "conn.commit()\n",
        "conn.close()"
      ],
      "metadata": {
        "id": "4-tnqu3Lm0eK"
      },
      "execution_count": 25,
      "outputs": []
    },
    {
      "cell_type": "code",
      "source": [
        "import sqlite3\n",
        "\n",
        "# Connect to the database\n",
        "conn = sqlite3.connect('temperature_db.db')\n",
        "cursor = conn.cursor()\n",
        "\n",
        "# Execute the query\n",
        "cursor.execute(\"SELECT * FROM temperature_data\")\n",
        "\n",
        "# Fetch all the rows\n",
        "temperature_data = cursor.fetchall()\n",
        "\n",
        "# Print the temperature data\n",
        "print(\"All the temperature data\")\n",
        "print(\" \")\n",
        "for row in temperature_data:\n",
        "    print(row)\n",
        "\n",
        "# Close the connection\n",
        "#conn.close()\n"
      ],
      "metadata": {
        "colab": {
          "base_uri": "https://localhost:8080/"
        },
        "id": "NE_VShyZqAQQ",
        "outputId": "4c006fbb-ce0d-4cde-a81e-36974a85b3c4"
      },
      "execution_count": 26,
      "outputs": [
        {
          "output_type": "stream",
          "name": "stdout",
          "text": [
            "All the temperature data\n",
            " \n",
            "('Mumbai', 'India', 'Winter', 24.8, 5.9)\n",
            "('Mumbai', 'India', 'Spring', 28.4, 16.2)\n",
            "('Mumbai', 'India', 'Summer', 27.9, 1549.4)\n",
            "('Mumbai', 'India', 'Fall', 27.6, 346.0)\n",
            "('London', 'United Kingdom', 'Winter', 4.2, 207.7)\n",
            "('London', 'United Kingdom', 'Spring', 8.3, 169.6)\n",
            "('London', 'United Kingdom', 'Summer', 15.7, 157.0)\n",
            "('London', 'United Kingdom', 'Fall', 10.4, 218.5)\n",
            "('Cairo', 'Egypt', 'Winter', 13.6, 16.5)\n",
            "('Cairo', 'Egypt', 'Spring', 20.7, 6.5)\n",
            "('Cairo', 'Egypt', 'Summer', 27.7, 0.1)\n",
            "('Cairo', 'Egypt', 'Fall', 22.2, 4.5)\n"
          ]
        }
      ]
    },
    {
      "cell_type": "code",
      "source": [
        "cursor.execute(\"SELECT distinct city FROM temperature_data\")\n",
        "\n",
        "# Print the cities without repeatition\n",
        "print(\"All Cities\")\n",
        "print(\" \")\n",
        "cities  = cursor.fetchall()\n",
        "\n",
        "for cities in cities:\n",
        "    print(cities[0])\n",
        "\n"
      ],
      "metadata": {
        "colab": {
          "base_uri": "https://localhost:8080/"
        },
        "id": "HWGsteBAqUou",
        "outputId": "0d88b47b-9a94-4588-eeb4-43525f085f68"
      },
      "execution_count": 30,
      "outputs": [
        {
          "output_type": "stream",
          "name": "stdout",
          "text": [
            "All Cities\n",
            " \n",
            "Mumbai\n",
            "London\n",
            "Cairo\n"
          ]
        }
      ]
    },
    {
      "cell_type": "code",
      "source": [
        "import sqlite3\n",
        "\n",
        "# Connect to the database\n",
        "conn = sqlite3.connect('temperature_db.db')\n",
        "cursor = conn.cursor()\n",
        "\n",
        "# Execute the query\n",
        "cursor.execute(\"SELECT * FROM temperature_data WHERE country = 'India'\")\n",
        "\n",
        "# Fetch all the records for India\n",
        "india_records = cursor.fetchall()\n",
        "\n",
        "print(\"All Data where country is India\")\n",
        "print(\" \")\n",
        "\n",
        "\n",
        "# Print the records\n",
        "for record in india_records:\n",
        "    print(record)\n",
        "\n",
        "# Close the connection\n",
        "conn.close()"
      ],
      "metadata": {
        "colab": {
          "base_uri": "https://localhost:8080/"
        },
        "id": "wV64fGKqtwFJ",
        "outputId": "ef0f4c16-a42a-4b21-acc8-f34c52ecbeee"
      },
      "execution_count": 157,
      "outputs": [
        {
          "output_type": "stream",
          "name": "stdout",
          "text": [
            "All Data where country is India\n",
            " \n",
            "('Mumbai', 'India', 'Winter', 24.8, 5.9)\n",
            "('Mumbai', 'India', 'Spring', 28.4, 16.2)\n",
            "('Mumbai', 'India', 'Summer', 27.9, 1549.4)\n",
            "('Mumbai', 'India', 'Fall', 27.6, 346.0)\n"
          ]
        }
      ]
    },
    {
      "cell_type": "code",
      "source": [
        "import sqlite3\n",
        "\n",
        "# Connect to the database\n",
        "conn = sqlite3.connect('temperature_db.db')\n",
        "cursor = conn.cursor()\n",
        "\n",
        "# Execute the query\n",
        "cursor.execute(\"SELECT * FROM temperature_data WHERE season = 'Fall'\")\n",
        "\n",
        "# Fetch all the Fall records\n",
        "fall_records = cursor.fetchall()\n",
        "\n",
        "# Print the records\n",
        "print(\"All Data where season is Fall\")\n",
        "print(\" \")\n",
        "\n",
        "for record in fall_records:\n",
        "    print(record)\n",
        "\n",
        "# Close the connection\n",
        "conn.close()"
      ],
      "metadata": {
        "colab": {
          "base_uri": "https://localhost:8080/"
        },
        "id": "HqNRCQRxvY5q",
        "outputId": "049a3c76-f38c-4de2-d4ad-fc611a31fd66"
      },
      "execution_count": 158,
      "outputs": [
        {
          "output_type": "stream",
          "name": "stdout",
          "text": [
            "All Data where season is Fall\n",
            " \n",
            "('Mumbai', 'India', 'Fall', 27.6, 346.0)\n",
            "('London', 'United Kingdom', 'Fall', 10.4, 218.5)\n",
            "('Cairo', 'Egypt', 'Fall', 22.2, 4.5)\n"
          ]
        }
      ]
    },
    {
      "cell_type": "code",
      "source": [
        "import sqlite3\n",
        "\n",
        "# Connect to the database\n",
        "conn = sqlite3.connect('temperature_db.db')\n",
        "cursor = conn.cursor()\n",
        "\n",
        "# Execute the query\n",
        "cursor.execute(\"SELECT city, country, season FROM temperature_data GROUP BY city, country, season HAVING AVG(rainfall) BETWEEN 200 AND 400\")\n",
        "\n",
        "# Fetch all the records\n",
        "average_rainfall_records = cursor.fetchall()\n",
        "\n",
        "# Print the records\n",
        "\n",
        "print(\"Average\")\n",
        "print(\" \")\n",
        "\n",
        "for record in average_rainfall_records:\n",
        "    print(record)\n",
        "\n",
        "# Close the connection\n",
        "conn.close()"
      ],
      "metadata": {
        "colab": {
          "base_uri": "https://localhost:8080/"
        },
        "id": "x276j2_Nv4HJ",
        "outputId": "bca650ff-bc58-44ae-f56e-e5d0474f93d2"
      },
      "execution_count": 36,
      "outputs": [
        {
          "output_type": "stream",
          "name": "stdout",
          "text": [
            "Average\n",
            " \n",
            "('London', 'United Kingdom', 'Fall')\n",
            "('London', 'United Kingdom', 'Winter')\n",
            "('Mumbai', 'India', 'Fall')\n"
          ]
        }
      ]
    },
    {
      "cell_type": "code",
      "source": [
        "import sqlite3\n",
        "\n",
        "# Connect to the database\n",
        "conn = sqlite3.connect('temperature_db.db')\n",
        "cursor = conn.cursor()\n",
        "\n",
        "# Execute the query\n",
        "cursor.execute(\"SELECT city, country FROM temperature_data WHERE season = 'Fall' GROUP BY city, country HAVING AVG(temperature) > 20 ORDER BY AVG(temperature)\")\n",
        "\n",
        "# Fetch all the records\n",
        "temperature_records = cursor.fetchall()\n",
        "\n",
        "# Print the records\n",
        "\n",
        "print(\"Average temp greater 20\")\n",
        "print(\" \")\n",
        "\n",
        "for record in temperature_records:\n",
        "    print(record)\n",
        "\n",
        "# Close the connection\n",
        "conn.close()\n"
      ],
      "metadata": {
        "colab": {
          "base_uri": "https://localhost:8080/"
        },
        "id": "ozGhBiAixfpl",
        "outputId": "05b708fd-710c-42f2-8159-adf34025e0e8"
      },
      "execution_count": 35,
      "outputs": [
        {
          "output_type": "stream",
          "name": "stdout",
          "text": [
            "Average temp greater 20\n",
            " \n",
            "('Cairo', 'Egypt')\n",
            "('Mumbai', 'India')\n"
          ]
        }
      ]
    },
    {
      "cell_type": "code",
      "source": [
        "import sqlite3\n",
        "\n",
        "# Connect to the database\n",
        "conn = sqlite3.connect('temperature_db.db')\n",
        "cursor = conn.cursor()\n",
        "\n",
        "# Execute the query\n",
        "cursor.execute(\"SELECT SUM(rainfall) FROM temperature_data WHERE city = 'Cairo'\")\n",
        "\n",
        "# Fetch the total annual rainfall\n",
        "total_rainfall = cursor.fetchone()[0]\n",
        "\n",
        "# Print the total annual rainfall\n",
        "print(total_rainfall)\n",
        "\n",
        "# Close the connection\n",
        "conn.close()"
      ],
      "metadata": {
        "colab": {
          "base_uri": "https://localhost:8080/"
        },
        "id": "kMiFBqdKyQhh",
        "outputId": "67a5469b-476d-44eb-86ef-9770120c0c96"
      },
      "execution_count": 34,
      "outputs": [
        {
          "output_type": "stream",
          "name": "stdout",
          "text": [
            "27.6\n"
          ]
        }
      ]
    },
    {
      "cell_type": "code",
      "source": [
        "import sqlite3\n",
        "\n",
        "# Connect to the database\n",
        "conn = sqlite3.connect('temperature_db.db')\n",
        "cursor = conn.cursor()\n",
        "\n",
        "# Execute the query\n",
        "cursor.execute(\"SELECT season, SUM(rainfall) FROM temperature_Data GROUP BY season\")\n",
        "\n",
        "# Fetch all the records\n",
        "season_rainfall_records = cursor.fetchall()\n",
        "\n",
        "# Print the records\n",
        "for record in season_rainfall_records:\n",
        "    print(record)\n",
        "\n",
        "# Close the connection\n",
        "conn.close()\n"
      ],
      "metadata": {
        "colab": {
          "base_uri": "https://localhost:8080/"
        },
        "id": "DLIP3RhAyu1H",
        "outputId": "b8851515-b677-46ea-9b7f-a024015561e1"
      },
      "execution_count": 33,
      "outputs": [
        {
          "output_type": "stream",
          "name": "stdout",
          "text": [
            "('Fall', 569.0)\n",
            "('Spring', 192.29999999999998)\n",
            "('Summer', 1706.5)\n",
            "('Winter', 230.1)\n"
          ]
        }
      ]
    },
    {
      "cell_type": "markdown",
      "source": [
        "**Question 9**\n",
        "\n",
        "Suppose list words is defined as follows:\n",
        "words = ['The', 'quick', 'brown', 'fox', 'jumps', 'over',\n",
        "'the', 'lazy', 'dog']\n",
        "Write list comprehension expressions that use list words and generate the following\n",
        "lists:\n",
        "\n",
        "\n",
        "\n",
        "---\n",
        "\n"
      ],
      "metadata": {
        "id": "3gUMV6DBEudq"
      }
    },
    {
      "cell_type": "code",
      "source": [
        "words = ['The', 'quick', 'brown', 'fox', 'jumps', 'over', 'the','lazy','dog']\n",
        "\n",
        "uppercase_words = [word.upper() for word in words]\n",
        "uppercase_words"
      ],
      "metadata": {
        "colab": {
          "base_uri": "https://localhost:8080/"
        },
        "id": "YhkQUp01E8Z0",
        "outputId": "af5b6b13-9b00-4be0-fa52-157eb717dfd5"
      },
      "execution_count": 14,
      "outputs": [
        {
          "output_type": "execute_result",
          "data": {
            "text/plain": [
              "['THE', 'QUICK', 'BROWN', 'FOX', 'JUMPS', 'OVER', 'THE', 'LAZY', 'DOG']"
            ]
          },
          "metadata": {},
          "execution_count": 14
        }
      ]
    },
    {
      "cell_type": "code",
      "source": [
        "lowercase_words = [word.lower() for word in words]\n",
        "lowercase_words"
      ],
      "metadata": {
        "colab": {
          "base_uri": "https://localhost:8080/"
        },
        "id": "Onr0GMCDFZTB",
        "outputId": "de325065-c405-4fc0-b3c0-9f4777890d17"
      },
      "execution_count": 15,
      "outputs": [
        {
          "output_type": "execute_result",
          "data": {
            "text/plain": [
              "['the', 'quick', 'brown', 'fox', 'jumps', 'over', 'the', 'lazy', 'dog']"
            ]
          },
          "metadata": {},
          "execution_count": 15
        }
      ]
    },
    {
      "cell_type": "code",
      "source": [
        "word_lengths = [len(word) for word in words]\n",
        "word_lengths"
      ],
      "metadata": {
        "colab": {
          "base_uri": "https://localhost:8080/"
        },
        "id": "z92pep6YFZPW",
        "outputId": "752b3990-8ded-40e3-85a4-f00121ab39bc"
      },
      "execution_count": 16,
      "outputs": [
        {
          "output_type": "execute_result",
          "data": {
            "text/plain": [
              "[3, 5, 5, 3, 5, 4, 3, 4, 3]"
            ]
          },
          "metadata": {},
          "execution_count": 16
        }
      ]
    },
    {
      "cell_type": "code",
      "source": [
        "word_info = [[word.upper(), word.lower(), len(word)] for word in words]\n",
        "word_info"
      ],
      "metadata": {
        "colab": {
          "base_uri": "https://localhost:8080/"
        },
        "id": "OTxgwlC6FZL5",
        "outputId": "409252c9-64bd-4669-bd85-84203a663405"
      },
      "execution_count": 17,
      "outputs": [
        {
          "output_type": "execute_result",
          "data": {
            "text/plain": [
              "[['THE', 'the', 3],\n",
              " ['QUICK', 'quick', 5],\n",
              " ['BROWN', 'brown', 5],\n",
              " ['FOX', 'fox', 3],\n",
              " ['JUMPS', 'jumps', 5],\n",
              " ['OVER', 'over', 4],\n",
              " ['THE', 'the', 3],\n",
              " ['LAZY', 'lazy', 4],\n",
              " ['DOG', 'dog', 3]]"
            ]
          },
          "metadata": {},
          "execution_count": 17
        }
      ]
    },
    {
      "cell_type": "code",
      "source": [
        "long_words = [word for word in words if len(word) >= 4]\n",
        "long_words"
      ],
      "metadata": {
        "colab": {
          "base_uri": "https://localhost:8080/"
        },
        "id": "U7lpi_w8FZIT",
        "outputId": "92f0a68e-df31-4622-d3b1-ff0b10dd8d0a"
      },
      "execution_count": 18,
      "outputs": [
        {
          "output_type": "execute_result",
          "data": {
            "text/plain": [
              "['quick', 'brown', 'jumps', 'over', 'lazy']"
            ]
          },
          "metadata": {},
          "execution_count": 18
        }
      ]
    }
  ]
}